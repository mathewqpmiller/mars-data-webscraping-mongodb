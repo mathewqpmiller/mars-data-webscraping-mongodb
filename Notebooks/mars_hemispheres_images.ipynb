{
 "cells": [
  {
   "cell_type": "code",
   "execution_count": 21,
   "id": "7a5cae90",
   "metadata": {},
   "outputs": [],
   "source": [
    "# Load Dependencies\n",
    "\n",
    "from selenium import webdriver\n",
    "from selenium.webdriver.chrome.service import Service\n",
    "from selenium.webdriver.common.by import By\n",
    "from selenium.webdriver.support.ui import WebDriverWait\n",
    "from selenium.webdriver.support import expected_conditions as EC\n",
    "from webdriver_manager.chrome import ChromeDriverManager\n",
    "from bs4 import BeautifulSoup as bs\n",
    "import time\n",
    "import json\n",
    "import csv\n",
    "import os"
   ]
  },
  {
   "cell_type": "code",
   "execution_count": 22,
   "id": "68967079",
   "metadata": {},
   "outputs": [],
   "source": [
    "# Setup Selenium with Chrome\n",
    "service = Service(ChromeDriverManager().install())\n",
    "driver = webdriver.Chrome(service=service)"
   ]
  },
  {
   "cell_type": "code",
   "execution_count": 23,
   "id": "6586ac06",
   "metadata": {},
   "outputs": [],
   "source": [
    "# Visit the USGS search results page\n",
    "base_url = \"https://astrogeology.usgs.gov\"\n",
    "search_url = f\"{base_url}/search/results?q=hemisphere+enhanced&k1=target&v1=Mars\"\n",
    "driver.get(search_url)\n",
    "time.sleep(2)"
   ]
  },
  {
   "cell_type": "code",
   "execution_count": 24,
   "id": "5fd443e9",
   "metadata": {},
   "outputs": [],
   "source": [
    "# Parse with BeautifulSoup\n",
    "soup = bs(driver.page_source, 'html.parser')\n",
    "items = soup.find_all('div', class_='description')"
   ]
  },
  {
   "cell_type": "code",
   "execution_count": 25,
   "id": "484738f8",
   "metadata": {},
   "outputs": [],
   "source": [
    "# Save to Dictionary\n",
    "hemisphere_image_urls = []"
   ]
  },
  {
   "cell_type": "code",
   "execution_count": 26,
   "id": "99fb40c2",
   "metadata": {},
   "outputs": [],
   "source": [
    "for item in items:\n",
    "    # Extract and clean the title\n",
    "    raw_title = item.find('h3').text.strip()\n",
    "    title = raw_title.replace(\" Enhanced\", \"\").replace(\"Hemisphere\", \"Hemisphere\").strip()\n",
    "\n",
    "    # Build full subpage URL\n",
    "    partial_url = item.find('a')['href']\n",
    "    full_link = base_url + partial_url\n",
    "\n",
    "    # Navigate to subpage\n",
    "    driver.get(full_link)\n",
    "    WebDriverWait(driver, 10).until(EC.presence_of_element_located((By.LINK_TEXT, 'downloads')))\n",
    "\n",
    "    # Parse subpage\n",
    "    sub_soup = bs(driver.page_source, 'html.parser')\n",
    "    img_url = sub_soup.find('a', text='Sample')['href']\n",
    "\n",
    "    # Append to list\n",
    "    hemisphere_image_urls.append({\n",
    "        'title': title,\n",
    "        'page_url': full_link,\n",
    "        'img_url': img_url\n",
    "    })\n"
   ]
  },
  {
   "cell_type": "code",
   "execution_count": 27,
   "id": "a3f81857",
   "metadata": {},
   "outputs": [
    {
     "name": "stdout",
     "output_type": "stream",
     "text": [
      "[]\n"
     ]
    }
   ],
   "source": [
    "import json\n",
    "print(json.dumps(hemisphere_image_urls, indent=2))\n"
   ]
  },
  {
   "cell_type": "code",
   "execution_count": 28,
   "id": "40036535",
   "metadata": {},
   "outputs": [
    {
     "name": "stdout",
     "output_type": "stream",
     "text": [
      "Found 0 items\n",
      "[]\n"
     ]
    }
   ],
   "source": [
    "from selenium.webdriver.common.by import By\n",
    "from selenium.webdriver.support.ui import WebDriverWait\n",
    "from selenium.webdriver.support import expected_conditions as EC\n",
    "from bs4 import BeautifulSoup as bs\n",
    "import time\n",
    "\n",
    "hemisphere_image_urls = []\n",
    "base_url = \"https://astrogeology.usgs.gov\"\n",
    "\n",
    "# Let the page load and parse\n",
    "soup = bs(driver.page_source, 'html.parser')\n",
    "items = soup.find_all('div', class_='item')\n",
    "\n",
    "# Sanity check\n",
    "print(f\"Found {len(items)} items\")\n",
    "\n",
    "for item in items:\n",
    "    try:\n",
    "        # Build the full link to the hemisphere page\n",
    "        partial_url = item.find('a')['href']\n",
    "        full_link = base_url + partial_url\n",
    "\n",
    "        # Go to the hemisphere's detail page\n",
    "        driver.get(full_link)\n",
    "        WebDriverWait(driver, 10).until(EC.presence_of_element_located((By.TAG_NAME, 'h2')))\n",
    "        time.sleep(1)  # Slight delay to ensure page is loaded\n",
    "\n",
    "        # Parse the subpage\n",
    "        sub_soup = bs(driver.page_source, 'html.parser')\n",
    "        title = sub_soup.find('h2', class_='title').text.replace(' Enhanced', '').strip()\n",
    "        img_url = sub_soup.find('a', text='Sample')['href']\n",
    "\n",
    "        # Store in list\n",
    "        hemisphere_image_urls.append({\n",
    "            'title': title,\n",
    "            'img_url': img_url\n",
    "        })\n",
    "        print(f\"Added: {title}\")\n",
    "\n",
    "    except Exception as e:\n",
    "        print(f\"Error processing item: {e}\")\n",
    "\n",
    "# Final check\n",
    "print(hemisphere_image_urls)\n"
   ]
  },
  {
   "cell_type": "markdown",
   "id": "d7fb9ad1",
   "metadata": {},
   "source": [
    "# Debugging For Loop"
   ]
  },
  {
   "cell_type": "code",
   "execution_count": 29,
   "id": "6da6c6c4",
   "metadata": {},
   "outputs": [
    {
     "name": "stdout",
     "output_type": "stream",
     "text": [
      "https://astrogeology.usgs.gov/search/results?q=hemisphere+enhanced&k1=target&v1=Mars\n",
      "\n"
     ]
    }
   ],
   "source": [
    "print(driver.current_url)\n",
    "print(driver.title)\n"
   ]
  },
  {
   "cell_type": "code",
   "execution_count": 30,
   "id": "9541c08e",
   "metadata": {},
   "outputs": [
    {
     "name": "stdout",
     "output_type": "stream",
     "text": [
      "Items found: 0\n"
     ]
    }
   ],
   "source": [
    "from bs4 import BeautifulSoup as bs\n",
    "\n",
    "soup = bs(driver.page_source, 'html.parser')\n",
    "items = soup.find_all('div', class_='item')\n",
    "print(f\"Items found: {len(items)}\")\n",
    "\n",
    "# Optional: show one item’s raw HTML\n",
    "if items:\n",
    "    print(items[0].prettify())\n"
   ]
  },
  {
   "cell_type": "code",
   "execution_count": 31,
   "id": "53a9c6a4",
   "metadata": {},
   "outputs": [],
   "source": [
    "for item in items:\n",
    "    try:\n",
    "        a_tag = item.find('a')\n",
    "        href = a_tag['href']\n",
    "        print(f\"Found href: {href}\")\n",
    "    except Exception as e:\n",
    "        print(f\"Error extracting href: {e}\")\n"
   ]
  },
  {
   "cell_type": "code",
   "execution_count": 32,
   "id": "61a9a996",
   "metadata": {},
   "outputs": [
    {
     "ename": "TimeoutException",
     "evalue": "Message: \nStacktrace:\n0   chromedriver                        0x00000001055b82c8 chromedriver + 6197960\n1   chromedriver                        0x00000001055af8ea chromedriver + 6162666\n2   chromedriver                        0x0000000105034de0 chromedriver + 417248\n3   chromedriver                        0x0000000105086797 chromedriver + 751511\n4   chromedriver                        0x00000001050869b1 chromedriver + 752049\n5   chromedriver                        0x00000001050d69b4 chromedriver + 1079732\n6   chromedriver                        0x00000001050ac9ed chromedriver + 907757\n7   chromedriver                        0x00000001050d3cdb chromedriver + 1068251\n8   chromedriver                        0x00000001050ac793 chromedriver + 907155\n9   chromedriver                        0x0000000105078b25 chromedriver + 695077\n10  chromedriver                        0x0000000105079791 chromedriver + 698257\n11  chromedriver                        0x0000000105574cc0 chromedriver + 5921984\n12  chromedriver                        0x0000000105578bb1 chromedriver + 5938097\n13  chromedriver                        0x000000010554f004 chromedriver + 5767172\n14  chromedriver                        0x00000001055795db chromedriver + 5940699\n15  chromedriver                        0x000000010553d704 chromedriver + 5695236\n16  chromedriver                        0x000000010559d0c8 chromedriver + 6086856\n17  chromedriver                        0x000000010559d290 chromedriver + 6087312\n18  chromedriver                        0x00000001055af4b1 chromedriver + 6161585\n19  libsystem_pthread.dylib             0x00007ff81358cdf1 _pthread_start + 99\n20  libsystem_pthread.dylib             0x00007ff813588857 thread_start + 15\n",
     "output_type": "error",
     "traceback": [
      "\u001b[0;31m---------------------------------------------------------------------------\u001b[0m",
      "\u001b[0;31mTimeoutException\u001b[0m                          Traceback (most recent call last)",
      "Input \u001b[0;32mIn [32]\u001b[0m, in \u001b[0;36m<cell line: 6>\u001b[0;34m()\u001b[0m\n\u001b[1;32m      3\u001b[0m \u001b[38;5;28;01mfrom\u001b[39;00m \u001b[38;5;21;01mselenium\u001b[39;00m\u001b[38;5;21;01m.\u001b[39;00m\u001b[38;5;21;01mwebdriver\u001b[39;00m\u001b[38;5;21;01m.\u001b[39;00m\u001b[38;5;21;01msupport\u001b[39;00m \u001b[38;5;28;01mimport\u001b[39;00m expected_conditions \u001b[38;5;28;01mas\u001b[39;00m EC\n\u001b[1;32m      5\u001b[0m \u001b[38;5;66;03m# Wait for the 'item' divs to load on the page\u001b[39;00m\n\u001b[0;32m----> 6\u001b[0m \u001b[43mWebDriverWait\u001b[49m\u001b[43m(\u001b[49m\u001b[43mdriver\u001b[49m\u001b[43m,\u001b[49m\u001b[43m \u001b[49m\u001b[38;5;241;43m10\u001b[39;49m\u001b[43m)\u001b[49m\u001b[38;5;241;43m.\u001b[39;49m\u001b[43muntil\u001b[49m\u001b[43m(\u001b[49m\u001b[43mEC\u001b[49m\u001b[38;5;241;43m.\u001b[39;49m\u001b[43mpresence_of_element_located\u001b[49m\u001b[43m(\u001b[49m\u001b[43m(\u001b[49m\u001b[43mBy\u001b[49m\u001b[38;5;241;43m.\u001b[39;49m\u001b[43mCLASS_NAME\u001b[49m\u001b[43m,\u001b[49m\u001b[43m \u001b[49m\u001b[38;5;124;43m'\u001b[39;49m\u001b[38;5;124;43mitem\u001b[39;49m\u001b[38;5;124;43m'\u001b[39;49m\u001b[43m)\u001b[49m\u001b[43m)\u001b[49m\u001b[43m)\u001b[49m\n",
      "File \u001b[0;32m/opt/anaconda3/lib/python3.9/site-packages/selenium/webdriver/support/wait.py:146\u001b[0m, in \u001b[0;36mWebDriverWait.until\u001b[0;34m(self, method, message)\u001b[0m\n\u001b[1;32m    144\u001b[0m         \u001b[38;5;28;01mbreak\u001b[39;00m\n\u001b[1;32m    145\u001b[0m     time\u001b[38;5;241m.\u001b[39msleep(\u001b[38;5;28mself\u001b[39m\u001b[38;5;241m.\u001b[39m_poll)\n\u001b[0;32m--> 146\u001b[0m \u001b[38;5;28;01mraise\u001b[39;00m TimeoutException(message, screen, stacktrace)\n",
      "\u001b[0;31mTimeoutException\u001b[0m: Message: \nStacktrace:\n0   chromedriver                        0x00000001055b82c8 chromedriver + 6197960\n1   chromedriver                        0x00000001055af8ea chromedriver + 6162666\n2   chromedriver                        0x0000000105034de0 chromedriver + 417248\n3   chromedriver                        0x0000000105086797 chromedriver + 751511\n4   chromedriver                        0x00000001050869b1 chromedriver + 752049\n5   chromedriver                        0x00000001050d69b4 chromedriver + 1079732\n6   chromedriver                        0x00000001050ac9ed chromedriver + 907757\n7   chromedriver                        0x00000001050d3cdb chromedriver + 1068251\n8   chromedriver                        0x00000001050ac793 chromedriver + 907155\n9   chromedriver                        0x0000000105078b25 chromedriver + 695077\n10  chromedriver                        0x0000000105079791 chromedriver + 698257\n11  chromedriver                        0x0000000105574cc0 chromedriver + 5921984\n12  chromedriver                        0x0000000105578bb1 chromedriver + 5938097\n13  chromedriver                        0x000000010554f004 chromedriver + 5767172\n14  chromedriver                        0x00000001055795db chromedriver + 5940699\n15  chromedriver                        0x000000010553d704 chromedriver + 5695236\n16  chromedriver                        0x000000010559d0c8 chromedriver + 6086856\n17  chromedriver                        0x000000010559d290 chromedriver + 6087312\n18  chromedriver                        0x00000001055af4b1 chromedriver + 6161585\n19  libsystem_pthread.dylib             0x00007ff81358cdf1 _pthread_start + 99\n20  libsystem_pthread.dylib             0x00007ff813588857 thread_start + 15\n"
     ]
    }
   ],
   "source": [
    "from selenium.webdriver.common.by import By\n",
    "from selenium.webdriver.support.ui import WebDriverWait\n",
    "from selenium.webdriver.support import expected_conditions as EC\n",
    "\n",
    "# Wait for the 'item' divs to load on the page\n",
    "WebDriverWait(driver, 10).until(EC.presence_of_element_located((By.CLASS_NAME, 'item')))\n"
   ]
  },
  {
   "cell_type": "code",
   "execution_count": 33,
   "id": "018bf266",
   "metadata": {},
   "outputs": [
    {
     "name": "stdout",
     "output_type": "stream",
     "text": [
      "Current page URL: https://astrogeology.usgs.gov/search/results?q=hemisphere+enhanced&k1=target&v1=Mars\n",
      "Page title: \n",
      "<html><head><meta name=\"color-scheme\" content=\"light dark\"><meta charset=\"utf-8\"></head><body><pre>{\"collections\":[{\"abstract\":\"This page introduces the Kaguya Multiband Imager derived spectral and derived mineral maps by the Japan Aerospace Exploration Agency (JAXA) and the University of Hawaii. The mosaics were created from topographically-corrected MI\",\"geoform\":[\"Collection\"],\"name\":\"lunar-kaguya-multiband-imager-mosaics\",\"onlink\":\"https://astrogeology.usgs.gov/search/map/lunar-kaguya-multiband-imager-mosaics\",\"pubdate\":\"2015-01-01\",\"thumb\":\"https://astrogeology.usgs.gov/ckan/dataset/a53c9dbf-e03a-4d7a-8641-fc7af97a75c2/resource/a7e1a610-f8ef-4080-99e0-1b637d6c269f/download/moon-selene-kaguya-mi-thumb.jpg\",\"title\":\"Lunar Kaguya Multiband Imager Mosaics\"},{\"abstract\":\"&lt;span class=\\\"intro\\\"&gt;The following products were the first step of cartography planning&lt;/span&gt; in support of the Cassini-Huygens mission to the Saturian System. Five of Saturans moons are linked below in a\n"
     ]
    }
   ],
   "source": [
    "print(\"Current page URL:\", driver.current_url)\n",
    "print(\"Page title:\", driver.title)\n",
    "\n",
    "# Wait a few seconds manually, then fetch the full source\n",
    "import time\n",
    "time.sleep(5)\n",
    "html = driver.page_source\n",
    "print(html[:1000])  # Print first 1000 chars for inspection\n"
   ]
  },
  {
   "cell_type": "code",
   "execution_count": 34,
   "id": "53621794",
   "metadata": {},
   "outputs": [
    {
     "ename": "TimeoutException",
     "evalue": "Message: \nStacktrace:\n0   chromedriver                        0x00000001055b82c8 chromedriver + 6197960\n1   chromedriver                        0x00000001055af8ea chromedriver + 6162666\n2   chromedriver                        0x0000000105034de0 chromedriver + 417248\n3   chromedriver                        0x0000000105086797 chromedriver + 751511\n4   chromedriver                        0x00000001050869b1 chromedriver + 752049\n5   chromedriver                        0x00000001050d69b4 chromedriver + 1079732\n6   chromedriver                        0x00000001050ac9ed chromedriver + 907757\n7   chromedriver                        0x00000001050d3cdb chromedriver + 1068251\n8   chromedriver                        0x00000001050ac793 chromedriver + 907155\n9   chromedriver                        0x0000000105078b25 chromedriver + 695077\n10  chromedriver                        0x0000000105079791 chromedriver + 698257\n11  chromedriver                        0x0000000105574cc0 chromedriver + 5921984\n12  chromedriver                        0x0000000105578bb1 chromedriver + 5938097\n13  chromedriver                        0x000000010554f004 chromedriver + 5767172\n14  chromedriver                        0x00000001055795db chromedriver + 5940699\n15  chromedriver                        0x000000010553d704 chromedriver + 5695236\n16  chromedriver                        0x000000010559d0c8 chromedriver + 6086856\n17  chromedriver                        0x000000010559d290 chromedriver + 6087312\n18  chromedriver                        0x00000001055af4b1 chromedriver + 6161585\n19  libsystem_pthread.dylib             0x00007ff81358cdf1 _pthread_start + 99\n20  libsystem_pthread.dylib             0x00007ff813588857 thread_start + 15\n",
     "output_type": "error",
     "traceback": [
      "\u001b[0;31m---------------------------------------------------------------------------\u001b[0m",
      "\u001b[0;31mTimeoutException\u001b[0m                          Traceback (most recent call last)",
      "Input \u001b[0;32mIn [34]\u001b[0m, in \u001b[0;36m<cell line: 1>\u001b[0;34m()\u001b[0m\n\u001b[0;32m----> 1\u001b[0m \u001b[43mWebDriverWait\u001b[49m\u001b[43m(\u001b[49m\u001b[43mdriver\u001b[49m\u001b[43m,\u001b[49m\u001b[43m \u001b[49m\u001b[38;5;241;43m10\u001b[39;49m\u001b[43m)\u001b[49m\u001b[38;5;241;43m.\u001b[39;49m\u001b[43muntil\u001b[49m\u001b[43m(\u001b[49m\u001b[43mEC\u001b[49m\u001b[38;5;241;43m.\u001b[39;49m\u001b[43mpresence_of_element_located\u001b[49m\u001b[43m(\u001b[49m\u001b[43m(\u001b[49m\u001b[43mBy\u001b[49m\u001b[38;5;241;43m.\u001b[39;49m\u001b[43mTAG_NAME\u001b[49m\u001b[43m,\u001b[49m\u001b[43m \u001b[49m\u001b[38;5;124;43m'\u001b[39;49m\u001b[38;5;124;43mh3\u001b[39;49m\u001b[38;5;124;43m'\u001b[39;49m\u001b[43m)\u001b[49m\u001b[43m)\u001b[49m\u001b[43m)\u001b[49m\n",
      "File \u001b[0;32m/opt/anaconda3/lib/python3.9/site-packages/selenium/webdriver/support/wait.py:146\u001b[0m, in \u001b[0;36mWebDriverWait.until\u001b[0;34m(self, method, message)\u001b[0m\n\u001b[1;32m    144\u001b[0m         \u001b[38;5;28;01mbreak\u001b[39;00m\n\u001b[1;32m    145\u001b[0m     time\u001b[38;5;241m.\u001b[39msleep(\u001b[38;5;28mself\u001b[39m\u001b[38;5;241m.\u001b[39m_poll)\n\u001b[0;32m--> 146\u001b[0m \u001b[38;5;28;01mraise\u001b[39;00m TimeoutException(message, screen, stacktrace)\n",
      "\u001b[0;31mTimeoutException\u001b[0m: Message: \nStacktrace:\n0   chromedriver                        0x00000001055b82c8 chromedriver + 6197960\n1   chromedriver                        0x00000001055af8ea chromedriver + 6162666\n2   chromedriver                        0x0000000105034de0 chromedriver + 417248\n3   chromedriver                        0x0000000105086797 chromedriver + 751511\n4   chromedriver                        0x00000001050869b1 chromedriver + 752049\n5   chromedriver                        0x00000001050d69b4 chromedriver + 1079732\n6   chromedriver                        0x00000001050ac9ed chromedriver + 907757\n7   chromedriver                        0x00000001050d3cdb chromedriver + 1068251\n8   chromedriver                        0x00000001050ac793 chromedriver + 907155\n9   chromedriver                        0x0000000105078b25 chromedriver + 695077\n10  chromedriver                        0x0000000105079791 chromedriver + 698257\n11  chromedriver                        0x0000000105574cc0 chromedriver + 5921984\n12  chromedriver                        0x0000000105578bb1 chromedriver + 5938097\n13  chromedriver                        0x000000010554f004 chromedriver + 5767172\n14  chromedriver                        0x00000001055795db chromedriver + 5940699\n15  chromedriver                        0x000000010553d704 chromedriver + 5695236\n16  chromedriver                        0x000000010559d0c8 chromedriver + 6086856\n17  chromedriver                        0x000000010559d290 chromedriver + 6087312\n18  chromedriver                        0x00000001055af4b1 chromedriver + 6161585\n19  libsystem_pthread.dylib             0x00007ff81358cdf1 _pthread_start + 99\n20  libsystem_pthread.dylib             0x00007ff813588857 thread_start + 15\n"
     ]
    }
   ],
   "source": [
    "WebDriverWait(driver, 10).until(EC.presence_of_element_located((By.TAG_NAME, 'h3')))\n"
   ]
  }
 ],
 "metadata": {
  "kernelspec": {
   "display_name": "base",
   "language": "python",
   "name": "python3"
  },
  "language_info": {
   "codemirror_mode": {
    "name": "ipython",
    "version": 3
   },
   "file_extension": ".py",
   "mimetype": "text/x-python",
   "name": "python",
   "nbconvert_exporter": "python",
   "pygments_lexer": "ipython3",
   "version": "3.9.12"
  }
 },
 "nbformat": 4,
 "nbformat_minor": 5
}
